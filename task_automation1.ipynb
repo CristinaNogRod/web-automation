{
  "cells": [
    {
      "cell_type": "code",
      "execution_count": 25,
      "metadata": {},
      "outputs": [],
      "source": [
        "from selenium import webdriver\n",
        "from selenium.webdriver.common.keys import Keys\n",
        "from selenium.webdriver.common.by import By\n",
        "from selenium.webdriver.common.timeouts import Timeouts\n",
        "from selenium.webdriver.common.action_chains import ActionChains\n",
        "\n",
        "from tqdm import tqdm\n",
        "import time\n",
        "import os\n",
        "import pandas as pd\n",
        "from pathlib import Path"
      ]
    },
    {
      "cell_type": "code",
      "execution_count": 26,
      "metadata": {
        "id": "XdjEiGVJwaIY"
      },
      "outputs": [],
      "source": [
        "# List of space IDs\n",
        "db = pd.read_csv('space_keys.csv', names=['name', 'skeys'])\n",
        "spacekeys = db.skeys\n",
        "spacekey1 = spacekeys[1]\n",
        "spacekeys_rest = spacekeys[2:]"
      ]
    },
    {
      "attachments": {},
      "cell_type": "markdown",
      "metadata": {},
      "source": [
        "Start Driver & Log in"
      ]
    },
    {
      "cell_type": "code",
      "execution_count": 27,
      "metadata": {},
      "outputs": [
        {
          "name": "stderr",
          "output_type": "stream",
          "text": [
            "/var/folders/br/18kl33vx5njc4t8sh57nclwr0000gq/T/ipykernel_57195/1618611122.py:2: DeprecationWarning: executable_path has been deprecated, please pass in a Service object\n",
            "  driver = webdriver.Chrome('C:/Users/criss/Documents/Projects/APMT/chromedriver_mac_arm64/chromedriver')\n"
          ]
        }
      ],
      "source": [
        "# start chrome driver\n",
        "driver = webdriver.Chrome('C:/Users/criss/Documents/Projects/APMT/chromedriver_mac_arm64/chromedriver')\n",
        "\n",
        "# navigate to the login page\n",
        "driver.get(\"https://id.atlassian.com/login?continue=https://confluence-apmterminals.atlassian.net/login?dest-url=https%3A%2F%2Fconfluence-apmterminals.atlassian.net%2Fwiki%2Fplugins%2Fservlet%2Fac-redirect%2Frefined.cloud.confluence%2Fservicedesk-portal%3Fac.redirectDomain%3Dapmterminals-confluence.refined.site&application=ondemand\")\n",
        "\n",
        "# enter email\n",
        "# input email and password\n",
        "driver.find_element(By.ID, \"username\").send_keys(\"\")\n",
        "login1 = driver.find_element(By.ID, \"login-submit\")\n",
        "login1.click()\n",
        "time.sleep(3)\n",
        "\n",
        "# enter password\n",
        "driver.find_element(By.ID, \"password\").send_keys(\"\")\n",
        "login2 = driver.find_element(By.ID, \"login-submit\")\n",
        "login2.click()"
      ]
    },
    {
      "attachments": {},
      "cell_type": "markdown",
      "metadata": {},
      "source": [
        "Edit page layout for first page (close popup)"
      ]
    },
    {
      "cell_type": "code",
      "execution_count": 28,
      "metadata": {},
      "outputs": [],
      "source": [
        "# layout template to import\n",
        "file_path = '/Users/criss/Downloads/layout.zip'\n",
        "# base refined url\n",
        "url_base = 'https://apmterminals-confluence.refined.site/space/'\n",
        "# space id\n",
        "space_id = spacekey1\n",
        "# go to space\n",
        "space_url = url_base + space_id\n",
        "driver.get(space_url)\n",
        "time.sleep(3)\n",
        "\n",
        "# edit steps\n",
        "more_button = driver.find_element(By.CLASS_NAME, \"more_menu_button\")\n",
        "more_button.click()\n",
        "time.sleep(2)\n",
        "edit_button = driver.find_element(By.XPATH, \"//*[contains(text(), 'Edit Page')]\")\n",
        "edit_button.click()\n",
        "time.sleep(2)\n",
        "import_button = driver.find_element(By.XPATH, \"//*[contains(text(), 'Import/Export')]\")\n",
        "import_button.click()\n",
        "time.sleep(2)\n",
        "\n",
        "# make import\n",
        "import_section = driver.find_element(By.XPATH, \"//div[contains(@class, 'rw_layout_import_export')]/div/input\")\n",
        "import_section.send_keys(file_path)\n",
        "time.sleep(5)\n",
        "\n",
        "# publish changes\n",
        "publish_button = driver.find_element(By.XPATH, \"//*[contains(text(), 'Publish')]\")\n",
        "publish_button.click()"
      ]
    },
    {
      "attachments": {},
      "cell_type": "markdown",
      "metadata": {},
      "source": [
        "Edit remaining pages"
      ]
    },
    {
      "cell_type": "code",
      "execution_count": 29,
      "metadata": {},
      "outputs": [],
      "source": [
        "fail_list = []\n",
        "\n",
        "def edit_page_layout(space_id):\n",
        "    # edit layout page in one space\n",
        "    space_url = url_base + space_id\n",
        "    try:\n",
        "        driver.get(space_url)\n",
        "        time.sleep(5)\n",
        "\n",
        "        # edit steps\n",
        "        more_button = driver.find_element(By.CLASS_NAME, \"more_menu_button\")\n",
        "        more_button.click()\n",
        "        time.sleep(2)\n",
        "        edit_button = driver.find_element(By.XPATH, \"//*[contains(text(), 'Edit Page')]\")\n",
        "        edit_button.click()\n",
        "        time.sleep(2)\n",
        "        import_button = driver.find_element(By.XPATH, \"//*[contains(text(), 'Import/Export')]\")\n",
        "        import_button.click()\n",
        "        time.sleep(2)\n",
        "\n",
        "        # make import\n",
        "        import_section = driver.find_element(By.XPATH, \"//div[contains(@class, 'rw_layout_import_export')]/div/input\")\n",
        "        import_section.send_keys(file_path)\n",
        "        time.sleep(5)\n",
        "\n",
        "        # publish changes\n",
        "        publish_button = driver.find_element(By.XPATH, \"//*[contains(text(), 'Publish')]\")\n",
        "        publish_button.click()\n",
        "        time.sleep(10)\n",
        "\n",
        "    except:\n",
        "        fail_list.append(space_id)"
      ]
    },
    {
      "cell_type": "code",
      "execution_count": 30,
      "metadata": {},
      "outputs": [
        {
          "name": "stdout",
          "output_type": "stream",
          "text": [
            "13\n"
          ]
        },
        {
          "data": {
            "text/plain": [
              "['rwlayoutkey',\n",
              " '10',\n",
              " 'TESTArchive',\n",
              " 'KME',\n",
              " 'AGB',\n",
              " 'CAB',\n",
              " 'ZEEB',\n",
              " 'AN',\n",
              " '~ahmed.mohdsuhail',\n",
              " 'Lazaro',\n",
              " 'AE',\n",
              " 'TS',\n",
              " 'APCP']"
            ]
          },
          "execution_count": 30,
          "metadata": {},
          "output_type": "execute_result"
        }
      ],
      "source": [
        "for space_id in spacekeys_rest:\n",
        "    edit_page_layout(space_id)\n",
        "\n",
        "print(len(fail_list))\n",
        "fail_list"
      ]
    },
    {
      "cell_type": "code",
      "execution_count": 31,
      "metadata": {},
      "outputs": [
        {
          "data": {
            "text/plain": [
              "8"
            ]
          },
          "execution_count": 31,
          "metadata": {},
          "output_type": "execute_result"
        }
      ],
      "source": [
        "new_spaces_ls = fail_list\n",
        "fail_list = []\n",
        "for space_id in new_spaces_ls:\n",
        "    edit_page_layout(space_id)\n",
        "len(fail_list)"
      ]
    },
    {
      "cell_type": "code",
      "execution_count": 32,
      "metadata": {},
      "outputs": [
        {
          "data": {
            "text/plain": [
              "['rwlayoutkey',\n",
              " '10',\n",
              " 'TESTArchive',\n",
              " 'CAB',\n",
              " 'ZEEB',\n",
              " 'AN',\n",
              " '~ahmed.mohdsuhail',\n",
              " 'TS']"
            ]
          },
          "execution_count": 32,
          "metadata": {},
          "output_type": "execute_result"
        }
      ],
      "source": [
        "fail_list"
      ]
    },
    {
      "cell_type": "code",
      "execution_count": 33,
      "metadata": {},
      "outputs": [],
      "source": [
        "edit_page_layout('ESALR112023')"
      ]
    }
  ],
  "metadata": {
    "colab": {
      "provenance": []
    },
    "kernelspec": {
      "display_name": "Python 3.11.3 ('apmt')",
      "language": "python",
      "name": "python3"
    },
    "language_info": {
      "codemirror_mode": {
        "name": "ipython",
        "version": 3
      },
      "file_extension": ".py",
      "mimetype": "text/x-python",
      "name": "python",
      "nbconvert_exporter": "python",
      "pygments_lexer": "ipython3",
      "version": "3.11.3"
    },
    "vscode": {
      "interpreter": {
        "hash": "fece68dde5a916c41d1b5a5be3961927253a313143da95094dfca9e2c76c29c5"
      }
    }
  },
  "nbformat": 4,
  "nbformat_minor": 0
}
