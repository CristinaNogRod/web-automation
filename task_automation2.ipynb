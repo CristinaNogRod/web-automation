{
  "cells": [
    {
      "cell_type": "code",
      "execution_count": 41,
      "metadata": {},
      "outputs": [],
      "source": [
        "from selenium import webdriver\n",
        "from selenium.webdriver.common.keys import Keys\n",
        "from selenium.webdriver.common.by import By\n",
        "from selenium.webdriver.common.timeouts import Timeouts\n",
        "from selenium.webdriver.common.action_chains import ActionChains\n",
        "\n",
        "from tqdm import tqdm\n",
        "import time\n",
        "import os\n",
        "import pandas as pd\n",
        "from pathlib import Path"
      ]
    },
    {
      "cell_type": "code",
      "execution_count": 42,
      "metadata": {
        "id": "XdjEiGVJwaIY"
      },
      "outputs": [],
      "source": [
        "# List of space IDs\n",
        "db = pd.read_csv('space_keys.csv', names=['name', 'skeys'])\n",
        "spacekeys = db.skeys\n",
        "spacekey1 = spacekeys[1]\n",
        "spacekeys_rest = spacekeys[2:]"
      ]
    },
    {
      "attachments": {},
      "cell_type": "markdown",
      "metadata": {},
      "source": [
        "Start Driver & Log in"
      ]
    },
    {
      "cell_type": "code",
      "execution_count": 43,
      "metadata": {},
      "outputs": [
        {
          "name": "stderr",
          "output_type": "stream",
          "text": [
            "/var/folders/br/18kl33vx5njc4t8sh57nclwr0000gq/T/ipykernel_54085/1618611122.py:2: DeprecationWarning: executable_path has been deprecated, please pass in a Service object\n",
            "  driver = webdriver.Chrome('C:/Users/criss/Documents/Projects/APMT/chromedriver_mac_arm64/chromedriver')\n"
          ]
        }
      ],
      "source": [
        "# start chrome driver\n",
        "driver = webdriver.Chrome('C:/Users/criss/Documents/Projects/APMT/chromedriver_mac_arm64/chromedriver')\n",
        "\n",
        "# navigate to the login page\n",
        "driver.get(\"https://id.atlassian.com/login?continue=https://confluence-apmterminals.atlassian.net/login?dest-url=https%3A%2F%2Fconfluence-apmterminals.atlassian.net%2Fwiki%2Fplugins%2Fservlet%2Fac-redirect%2Frefined.cloud.confluence%2Fservicedesk-portal%3Fac.redirectDomain%3Dapmterminals-confluence.refined.site&application=ondemand\")\n",
        "\n",
        "# enter email\n",
        "# input email & password\n",
        "driver.find_element(By.ID, \"username\").send_keys(\"\")\n",
        "login1 = driver.find_element(By.ID, \"login-submit\")\n",
        "login1.click()\n",
        "time.sleep(3)\n",
        "\n",
        "# enter password\n",
        "driver.find_element(By.ID, \"password\").send_keys(\"\")\n",
        "login2 = driver.find_element(By.ID, \"login-submit\")\n",
        "login2.click()"
      ]
    },
    {
      "attachments": {},
      "cell_type": "markdown",
      "metadata": {},
      "source": [
        "Edit page layout for first page (close popup)"
      ]
    },
    {
      "cell_type": "code",
      "execution_count": 46,
      "metadata": {},
      "outputs": [],
      "source": [
        "# layout template to import\n",
        "file_path = '/Users/criss/Downloads/layout.zip'\n",
        "# base refined url\n",
        "url_base = 'https://apmterminals-confluence.refined.site/space/'\n",
        "# space id\n",
        "space_id = spacekey1\n",
        "# go to space\n",
        "space_url = url_base + space_id\n",
        "driver.get(space_url)\n",
        "time.sleep(3)\n",
        "\n",
        "# edit steps\n",
        "more_button = driver.find_element(By.CLASS_NAME, \"more_menu_button\")\n",
        "more_button.click()\n",
        "time.sleep(2)\n",
        "edit_button = driver.find_element(By.XPATH, \"//*[contains(text(), 'Edit Page')]\")\n",
        "edit_button.click()"
      ]
    },
    {
      "cell_type": "code",
      "execution_count": 45,
      "metadata": {},
      "outputs": [
        {
          "ename": "NoSuchElementException",
          "evalue": "Message: no such element: Unable to locate element: {\"method\":\"xpath\",\"selector\":\"//*[contains(text(), ' Import/Export Page Layout ')]\"}\n  (Session info: chrome=113.0.5672.126)\nStacktrace:\n0   chromedriver                        0x0000000100a438ac chromedriver + 4257964\n1   chromedriver                        0x0000000100a3bf40 chromedriver + 4226880\n2   chromedriver                        0x00000001006789d4 chromedriver + 281044\n3   chromedriver                        0x00000001006b3a34 chromedriver + 522804\n4   chromedriver                        0x00000001006ea7e4 chromedriver + 747492\n5   chromedriver                        0x00000001006a798c chromedriver + 473484\n6   chromedriver                        0x00000001006a898c chromedriver + 477580\n7   chromedriver                        0x0000000100a02900 chromedriver + 3991808\n8   chromedriver                        0x0000000100a06354 chromedriver + 4006740\n9   chromedriver                        0x0000000100a06940 chromedriver + 4008256\n10  chromedriver                        0x0000000100a0c33c chromedriver + 4031292\n11  chromedriver                        0x0000000100a06f34 chromedriver + 4009780\n12  chromedriver                        0x00000001009df490 chromedriver + 3847312\n13  chromedriver                        0x0000000100a249f4 chromedriver + 4131316\n14  chromedriver                        0x0000000100a24b4c chromedriver + 4131660\n15  chromedriver                        0x0000000100a35230 chromedriver + 4198960\n16  libsystem_pthread.dylib             0x00000001a710d240 _pthread_start + 148\n17  libsystem_pthread.dylib             0x00000001a7108024 thread_start + 8\n",
          "output_type": "error",
          "traceback": [
            "\u001b[0;31m---------------------------------------------------------------------------\u001b[0m",
            "\u001b[0;31mNoSuchElementException\u001b[0m                    Traceback (most recent call last)",
            "Cell \u001b[0;32mIn[45], line 10\u001b[0m\n\u001b[1;32m      4\u001b[0m time\u001b[39m.\u001b[39msleep(\u001b[39m3\u001b[39m)\n\u001b[1;32m      6\u001b[0m \u001b[39m# continue editing\u001b[39;00m\n\u001b[1;32m      7\u001b[0m \u001b[39m# menu_button = driver.find_element(By.CLASS_NAME, 'el-button')\u001b[39;00m\n\u001b[1;32m      8\u001b[0m \u001b[39m# menu_button.click()\u001b[39;00m\n\u001b[1;32m      9\u001b[0m \u001b[39m# time.sleep(1)\u001b[39;00m\n\u001b[0;32m---> 10\u001b[0m import_button \u001b[39m=\u001b[39m driver\u001b[39m.\u001b[39;49mfind_element(By\u001b[39m.\u001b[39;49mXPATH, \u001b[39m\"\u001b[39;49m\u001b[39m//*[contains(text(), \u001b[39;49m\u001b[39m'\u001b[39;49m\u001b[39m Import/Export Page Layout \u001b[39;49m\u001b[39m'\u001b[39;49m\u001b[39m)]\u001b[39;49m\u001b[39m\"\u001b[39;49m)\n\u001b[1;32m     11\u001b[0m import_button\u001b[39m.\u001b[39mclick()\n\u001b[1;32m     12\u001b[0m time\u001b[39m.\u001b[39msleep(\u001b[39m3\u001b[39m)\n",
            "File \u001b[0;32m~/miniforge3/envs/apmt/lib/python3.11/site-packages/selenium/webdriver/remote/webdriver.py:831\u001b[0m, in \u001b[0;36mWebDriver.find_element\u001b[0;34m(self, by, value)\u001b[0m\n\u001b[1;32m    828\u001b[0m     by \u001b[39m=\u001b[39m By\u001b[39m.\u001b[39mCSS_SELECTOR\n\u001b[1;32m    829\u001b[0m     value \u001b[39m=\u001b[39m \u001b[39mf\u001b[39m\u001b[39m'\u001b[39m\u001b[39m[name=\u001b[39m\u001b[39m\"\u001b[39m\u001b[39m{\u001b[39;00mvalue\u001b[39m}\u001b[39;00m\u001b[39m\"\u001b[39m\u001b[39m]\u001b[39m\u001b[39m'\u001b[39m\n\u001b[0;32m--> 831\u001b[0m \u001b[39mreturn\u001b[39;00m \u001b[39mself\u001b[39;49m\u001b[39m.\u001b[39;49mexecute(Command\u001b[39m.\u001b[39;49mFIND_ELEMENT, {\u001b[39m\"\u001b[39;49m\u001b[39musing\u001b[39;49m\u001b[39m\"\u001b[39;49m: by, \u001b[39m\"\u001b[39;49m\u001b[39mvalue\u001b[39;49m\u001b[39m\"\u001b[39;49m: value})[\u001b[39m\"\u001b[39m\u001b[39mvalue\u001b[39m\u001b[39m\"\u001b[39m]\n",
            "File \u001b[0;32m~/miniforge3/envs/apmt/lib/python3.11/site-packages/selenium/webdriver/remote/webdriver.py:440\u001b[0m, in \u001b[0;36mWebDriver.execute\u001b[0;34m(self, driver_command, params)\u001b[0m\n\u001b[1;32m    438\u001b[0m response \u001b[39m=\u001b[39m \u001b[39mself\u001b[39m\u001b[39m.\u001b[39mcommand_executor\u001b[39m.\u001b[39mexecute(driver_command, params)\n\u001b[1;32m    439\u001b[0m \u001b[39mif\u001b[39;00m response:\n\u001b[0;32m--> 440\u001b[0m     \u001b[39mself\u001b[39;49m\u001b[39m.\u001b[39;49merror_handler\u001b[39m.\u001b[39;49mcheck_response(response)\n\u001b[1;32m    441\u001b[0m     response[\u001b[39m\"\u001b[39m\u001b[39mvalue\u001b[39m\u001b[39m\"\u001b[39m] \u001b[39m=\u001b[39m \u001b[39mself\u001b[39m\u001b[39m.\u001b[39m_unwrap_value(response\u001b[39m.\u001b[39mget(\u001b[39m\"\u001b[39m\u001b[39mvalue\u001b[39m\u001b[39m\"\u001b[39m, \u001b[39mNone\u001b[39;00m))\n\u001b[1;32m    442\u001b[0m     \u001b[39mreturn\u001b[39;00m response\n",
            "File \u001b[0;32m~/miniforge3/envs/apmt/lib/python3.11/site-packages/selenium/webdriver/remote/errorhandler.py:245\u001b[0m, in \u001b[0;36mErrorHandler.check_response\u001b[0;34m(self, response)\u001b[0m\n\u001b[1;32m    243\u001b[0m         alert_text \u001b[39m=\u001b[39m value[\u001b[39m\"\u001b[39m\u001b[39malert\u001b[39m\u001b[39m\"\u001b[39m]\u001b[39m.\u001b[39mget(\u001b[39m\"\u001b[39m\u001b[39mtext\u001b[39m\u001b[39m\"\u001b[39m)\n\u001b[1;32m    244\u001b[0m     \u001b[39mraise\u001b[39;00m exception_class(message, screen, stacktrace, alert_text)  \u001b[39m# type: ignore[call-arg]  # mypy is not smart enough here\u001b[39;00m\n\u001b[0;32m--> 245\u001b[0m \u001b[39mraise\u001b[39;00m exception_class(message, screen, stacktrace)\n",
            "\u001b[0;31mNoSuchElementException\u001b[0m: Message: no such element: Unable to locate element: {\"method\":\"xpath\",\"selector\":\"//*[contains(text(), ' Import/Export Page Layout ')]\"}\n  (Session info: chrome=113.0.5672.126)\nStacktrace:\n0   chromedriver                        0x0000000100a438ac chromedriver + 4257964\n1   chromedriver                        0x0000000100a3bf40 chromedriver + 4226880\n2   chromedriver                        0x00000001006789d4 chromedriver + 281044\n3   chromedriver                        0x00000001006b3a34 chromedriver + 522804\n4   chromedriver                        0x00000001006ea7e4 chromedriver + 747492\n5   chromedriver                        0x00000001006a798c chromedriver + 473484\n6   chromedriver                        0x00000001006a898c chromedriver + 477580\n7   chromedriver                        0x0000000100a02900 chromedriver + 3991808\n8   chromedriver                        0x0000000100a06354 chromedriver + 4006740\n9   chromedriver                        0x0000000100a06940 chromedriver + 4008256\n10  chromedriver                        0x0000000100a0c33c chromedriver + 4031292\n11  chromedriver                        0x0000000100a06f34 chromedriver + 4009780\n12  chromedriver                        0x00000001009df490 chromedriver + 3847312\n13  chromedriver                        0x0000000100a249f4 chromedriver + 4131316\n14  chromedriver                        0x0000000100a24b4c chromedriver + 4131660\n15  chromedriver                        0x0000000100a35230 chromedriver + 4198960\n16  libsystem_pthread.dylib             0x00000001a710d240 _pthread_start + 148\n17  libsystem_pthread.dylib             0x00000001a7108024 thread_start + 8\n"
          ]
        }
      ],
      "source": [
        "# close dialog\n",
        "action = ActionChains(driver)\n",
        "action.move_by_offset(0, 0).click().perform()\n",
        "time.sleep(3)\n",
        "\n",
        "# continue editing\n",
        "menu_button = driver.find_element(By.CLASS_NAME, 'el-button')\n",
        "menu_button.click()\n",
        "time.sleep(1)\n",
        "import_button = driver.find_element(By.XPATH, \"//*[contains(text(), ' Import/Export Page Layout ')]\")\n",
        "import_button.click()\n",
        "time.sleep(3)\n",
        "import_section = driver.find_element(By.XPATH, \"//div[contains(@class, 'r_upload')]/div/input\")\n",
        "import_section.send_keys(file_path)\n",
        "time.sleep(3)\n",
        "\n",
        "# publish changes\n",
        "publish_button = driver.find_element(By.XPATH, \"//*[contains(text(), 'Publish')]\")\n",
        "publish_button.click()"
      ]
    },
    {
      "attachments": {},
      "cell_type": "markdown",
      "metadata": {},
      "source": [
        "Edit remaining pages"
      ]
    },
    {
      "cell_type": "code",
      "execution_count": 26,
      "metadata": {},
      "outputs": [],
      "source": [
        "fail_list = []\n",
        "\n",
        "def edit_page_layout(space_id):\n",
        "    # edit layout page in one space\n",
        "    space_url = url_base + space_id\n",
        "    try:\n",
        "        driver.get(space_url)\n",
        "        time.sleep(5)\n",
        "\n",
        "        # edit steps\n",
        "        more_button = driver.find_element(By.CLASS_NAME, \"more_menu_button\")\n",
        "        more_button.click()\n",
        "        time.sleep(3)\n",
        "        edit_button = driver.find_element(By.XPATH, \"//*[contains(text(), 'Edit Page')]\")\n",
        "        edit_button.click()\n",
        "        time.sleep(3)\n",
        "        menu_button = driver.find_element(By.CLASS_NAME, 'el-button')\n",
        "        menu_button.click()\n",
        "        time.sleep(3)\n",
        "        import_button = driver.find_element(By.XPATH, \"//*[contains(text(), ' Import/Export Page Layout ')]\")\n",
        "        import_button.click()\n",
        "        time.sleep(3)\n",
        "        import_section = driver.find_element(By.XPATH, \"//div[contains(@class, 'r_upload')]/div/input\")\n",
        "        import_section.send_keys(file_path)\n",
        "        time.sleep(3)\n",
        "        publish_button = driver.find_element(By.XPATH, \"//*[contains(text(), 'Publish')]\")\n",
        "        publish_button.click()\n",
        "        time.sleep(10)\n",
        "\n",
        "    except:\n",
        "        fail_list.append(space_id)"
      ]
    },
    {
      "cell_type": "code",
      "execution_count": 27,
      "metadata": {},
      "outputs": [
        {
          "name": "stdout",
          "output_type": "stream",
          "text": [
            "35\n"
          ]
        },
        {
          "data": {
            "text/plain": [
              "['rwlayoutkey',\n",
              " '10',\n",
              " 'TESTArchive',\n",
              " 'SAF',\n",
              " 'SEC',\n",
              " 'EN',\n",
              " 'SUS',\n",
              " 'IKB',\n",
              " 'US',\n",
              " 'CIGDO',\n",
              " 'GOT',\n",
              " 'Reliability',\n",
              " 'AA',\n",
              " 'AGB',\n",
              " 'PROC',\n",
              " 'AssetDelivery',\n",
              " 'SFRDNA',\n",
              " 'GBE',\n",
              " 'SFRgeneral',\n",
              " 'APMTR',\n",
              " 'SFREngineering',\n",
              " 'SFRDelivery',\n",
              " 'AQABA',\n",
              " 'CMIT',\n",
              " 'MOIN',\n",
              " 'TPDO',\n",
              " 'NTCP',\n",
              " 'QMS',\n",
              " 'CAB',\n",
              " 'ZEEB',\n",
              " 'AN',\n",
              " '~ahmed.mohdsuhail',\n",
              " 'TS',\n",
              " 'ESALR112023',\n",
              " 'GW']"
            ]
          },
          "execution_count": 27,
          "metadata": {},
          "output_type": "execute_result"
        }
      ],
      "source": [
        "for space_id in spacekeys_rest:\n",
        "    edit_page_layout(space_id)\n",
        "\n",
        "print(len(fail_list))\n",
        "fail_list"
      ]
    },
    {
      "cell_type": "code",
      "execution_count": 28,
      "metadata": {},
      "outputs": [
        {
          "data": {
            "text/plain": [
              "10"
            ]
          },
          "execution_count": 28,
          "metadata": {},
          "output_type": "execute_result"
        }
      ],
      "source": [
        "new_spaces_ls = fail_list\n",
        "fail_list = []\n",
        "for space_id in new_spaces_ls:\n",
        "    edit_page_layout(space_id)\n",
        "len(fail_list)"
      ]
    },
    {
      "cell_type": "code",
      "execution_count": 29,
      "metadata": {},
      "outputs": [
        {
          "data": {
            "text/plain": [
              "['rwlayoutkey',\n",
              " '10',\n",
              " 'TESTArchive',\n",
              " 'CAB',\n",
              " 'ZEEB',\n",
              " 'AN',\n",
              " '~ahmed.mohdsuhail',\n",
              " 'TS',\n",
              " 'ESALR112023',\n",
              " 'GW']"
            ]
          },
          "execution_count": 29,
          "metadata": {},
          "output_type": "execute_result"
        }
      ],
      "source": [
        "fail_list"
      ]
    },
    {
      "cell_type": "code",
      "execution_count": 33,
      "metadata": {},
      "outputs": [],
      "source": [
        "edit_page_layout('ESALR112023')"
      ]
    }
  ],
  "metadata": {
    "colab": {
      "provenance": []
    },
    "kernelspec": {
      "display_name": "Python 3.11.3 ('apmt')",
      "language": "python",
      "name": "python3"
    },
    "language_info": {
      "codemirror_mode": {
        "name": "ipython",
        "version": 3
      },
      "file_extension": ".py",
      "mimetype": "text/x-python",
      "name": "python",
      "nbconvert_exporter": "python",
      "pygments_lexer": "ipython3",
      "version": "3.11.3"
    },
    "vscode": {
      "interpreter": {
        "hash": "fece68dde5a916c41d1b5a5be3961927253a313143da95094dfca9e2c76c29c5"
      }
    }
  },
  "nbformat": 4,
  "nbformat_minor": 0
}
